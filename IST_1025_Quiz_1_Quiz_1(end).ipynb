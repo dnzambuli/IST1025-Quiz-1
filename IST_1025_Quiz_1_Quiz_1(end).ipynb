{
  "cells": [
    {
      "cell_type": "markdown",
      "metadata": {
        "id": "Zkt9Gu-R_6kp"
      },
      "source": [
        "# Nzambuli Daniel\n",
        "# 665721\n",
        "# IST 1025: Introduction to programming\n",
        "# By Mr Benard Ondieki\n",
        "# Quiz 1\n",
        "\n",
        "## Task\n",
        "\n",
        "Write a Pseducode and an alogorithm for a program that calculates the following\n",
        "\n",
        "    BMI of a person\n",
        "    Roots of a quadratic equation"
      ]
    },
    {
      "cell_type": "markdown",
      "metadata": {
        "id": "B8jBpbPK_6kx"
      },
      "source": [
        "#### BMI calculator\n",
        "\n",
        "pseudocode:\n",
        "\n",
        "- input the weight in kilograms\n",
        "- input the height in centimeters\n",
        "- divide weight by height squared and multiply by 10000\n",
        "- print the resulting value as BMI\n",
        "\n",
        "algorithim:\n",
        "\n",
        "- input weight W\n",
        "- input height H\n",
        "- BMI = W/ H² * 10000\n",
        "- print(f'Your BMI is:\\n{BMI}')\n",
        "\n",
        "flowchart:\n",
        "\n",
        "[Bmi Flowchart](./Images/bmi.png)"
      ]
    },
    {
      "cell_type": "code",
      "execution_count": 1,
      "metadata": {
        "colab": {
          "base_uri": "https://localhost:8080/"
        },
        "id": "LxTVL1nN_6k1",
        "outputId": "4dc783d6-f4bf-41d0-9424-40dbaf145fec",
        "trusted": true
      },
      "outputs": [
        {
          "name": "stdout",
          "output_type": "stream",
          "text": [
            "Enter weight in Kilograms(kg): 16.9\n",
            "Enter height in centimeters(cm): 105.4\n",
            "Your BMI is:\n",
            "15.213\n"
          ]
        }
      ],
      "source": [
        "w = float(input('Enter weight in Kilograms(kg): '))\n",
        "h = float(input('Enter height in centimeters(cm): '))\n",
        "BMI = w/ pow(h, 2) * 10000\n",
        "print(f'Your BMI is:\\n{round(BMI, 3)}')"
      ]
    },
    {
      "cell_type": "markdown",
      "metadata": {
        "id": "CI0OYeIQ_6k4"
      },
      "source": [
        "### Roots of quadratic equations\n",
        "the formula for quadratic equations is:\n",
        "```\n",
        "for an equation:\n",
        "- ax² + bx + c = y \n",
        "\n",
        "the roots are\n",
        "x = (-b ± √(b² -4ac))/ 2a\n",
        "```\n",
        "\n",
        "pseudocode:\n",
        "- input the x² coefficient\n",
        "- input the x coefficient \n",
        "- input the constant\n",
        "- to the fomula plug the x² coefficient where there is an a, the x coefficient where there is a b and, the constant where there is a c\n",
        "- print the result of the operations of the formula\n",
        "\n",
        "algorithm:\n",
        "- start\n",
        "- input x² coefficient x_sqrd(a)\n",
        "- input x coefficient x_pow1(b)\n",
        "- input constant C(c)\n",
        "- split the formula to calculate:\n",
        "- pos_root = x = (-b + √(b² -4ac))/ 2a\n",
        "- neg_root = x = (-b - √(b² -4ac))/ 2a\n",
        "- print(f'The roots are:\\nx ={pos_root}\\nx ={neg_root})\n",
        "- end\n",
        "\n",
        "Program flowchart\n",
        "\n",
        "[flowchart](./Images/quadratic_roots.png)"
      ]
    },
    {
      "cell_type": "code",
      "execution_count": 2,
      "metadata": {
        "colab": {
          "base_uri": "https://localhost:8080/"
        },
        "id": "0sfaFsys_6k8",
        "outputId": "e79dc829-0bbb-4938-9818-aa9c66388c7d",
        "trusted": true
      },
      "outputs": [
        {
          "name": "stdout",
          "output_type": "stream",
          "text": [
            "Enter the X² coefficient: 1\n",
            "Enter the X coefficient: 2\n",
            "Enter the constant c: 15\n",
            "The roots are:\n",
            "x =(-2+7.483314773547883j)\n",
            "x =(-2+7.483314773547883j)\n"
          ]
        }
      ],
      "source": [
        "# Program to calculate roots of quadratic equations \n",
        "import math \n",
        "import cmath\n",
        "\n",
        "x_sqrd = int(input('Enter the X² coefficient: '))\n",
        "x_pow1 = int(input('Enter the X coefficient: '))\n",
        "C = int(input('Enter the constant c: '))\n",
        "\n",
        "b_sqrd = math.pow(x_pow1, 2)\n",
        "der = (b_sqrd - 4 * x_sqrd * C)\n",
        "der_sroot = cmath.sqrt(der)\n",
        "\n",
        "pos_root = -x_pow1 + der_sroot\n",
        "neg_root = -x_pow1 + der_sroot\n",
        "\n",
        "print(f'The roots are:\\nx ={pos_root}\\nx ={neg_root}')"
      ]
    },
    {
      "cell_type": "markdown",
      "metadata": {
        "id": "kGe6CF3R_6lA"
      },
      "source": [
        "##### Github link \n",
        "[Quiz 1](https://github.com/dnzambuli/Quiz-1)"
      ]
    },
    {
      "cell_type": "markdown",
      "metadata": {},
      "source": []
    }
  ],
  "metadata": {
    "colab": {
      "name": "IST 1025 Quiz 1_Quiz 1(end).ipynb",
      "provenance": []
    },
    "kernelspec": {
      "display_name": "Python 3",
      "name": "python3"
    },
    "language_info": {
      "name": "python"
    }
  },
  "nbformat": 4,
  "nbformat_minor": 0
}
